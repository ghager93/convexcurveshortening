{
 "cells": [
  {
   "cell_type": "code",
   "execution_count": 1,
   "id": "28a74a57",
   "metadata": {},
   "outputs": [],
   "source": [
    "import numpy as np\n",
    "import matplotlib.pyplot as plt\n",
    "import pickle\n",
    "import os\n",
    "import sys\n",
    "\n",
    "import enclosed_csf_list"
   ]
  },
  {
   "cell_type": "code",
   "execution_count": 2,
   "id": "c95fa554",
   "metadata": {},
   "outputs": [],
   "source": [
    "image_curve_path = r\"C:\\Users\\ghage\\PycharmProjects\\enclosedcurveshorteningflow\\out\\image_curves\\image_curve.pickle\""
   ]
  },
  {
   "cell_type": "code",
   "execution_count": 3,
   "id": "1477fca1",
   "metadata": {},
   "outputs": [],
   "source": [
    "with open(image_curve_path, 'rb') as f:\n",
    "    image_curves = pickle.load(f)"
   ]
  },
  {
   "cell_type": "code",
   "execution_count": 4,
   "id": "fdf49cce",
   "metadata": {},
   "outputs": [],
   "source": [
    "ecsfs = []\n",
    "for image_curve in image_curves:\n",
    "    try:\n",
    "        sys.stdout = open(os.devnull, 'w')\n",
    "        ecsf = enclosed_csf_list.enclosed_csf_list_retry_on_fail(image_curve, 100)\n",
    "        sys.stdout = sys.__stdout__\n",
    "        print(\"Algorithm complete.\")\n",
    "    except Exception as e:\n",
    "        sys.stdout = sys.__stdout__\n",
    "        print(e)\n",
    "        ecsf = [image_curve]\n",
    "    ecsfs.append(ecsf)"
   ]
  },
  {
   "cell_type": "code",
   "execution_count": 7,
   "id": "de4a6aac",
   "metadata": {},
   "outputs": [
    {
     "data": {
      "text/plain": [
       "100"
      ]
     },
     "execution_count": 7,
     "metadata": {},
     "output_type": "execute_result"
    }
   ],
   "source": [
    "len(ecsfs[1])"
   ]
  }
 ],
 "metadata": {
  "kernelspec": {
   "display_name": "Python 3",
   "language": "python",
   "name": "python3"
  },
  "language_info": {
   "codemirror_mode": {
    "name": "ipython",
    "version": 3
   },
   "file_extension": ".py",
   "mimetype": "text/x-python",
   "name": "python",
   "nbconvert_exporter": "python",
   "pygments_lexer": "ipython3",
   "version": "3.8.3"
  }
 },
 "nbformat": 4,
 "nbformat_minor": 5
}
