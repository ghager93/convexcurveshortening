{
 "cells": [
  {
   "cell_type": "code",
   "execution_count": 2,
   "id": "32e64cf5",
   "metadata": {},
   "outputs": [],
   "source": [
    "import numpy as np\n",
    "import os\n",
    "\n",
    "import _image_processing"
   ]
  },
  {
   "cell_type": "code",
   "execution_count": 14,
   "id": "60bf80b7",
   "metadata": {},
   "outputs": [],
   "source": [
    "silhouette_path = 'lib/silhouettes/'\n",
    "geo_path = os.path.join(silhouette_path, 'geographic')\n",
    "other_path = os.path.join(silhouette_path, 'other')\n",
    "out_path = os.path.join(silhouette_path, 'dilated')\n",
    "open_path = os.path.join(silhouette_path, 'opened')"
   ]
  },
  {
   "cell_type": "code",
   "execution_count": 10,
   "id": "cd9fd3b5",
   "metadata": {},
   "outputs": [
    {
     "name": "stdout",
     "output_type": "stream",
     "text": [
      "['afghanistan-silhouette.bmp', 'algeria-silhouette.bmp', 'andorra-silhouette.bmp', 'argentina-silhouette.bmp', 'australia-silhouette.png', 'belize-silhouette.bmp', 'brazil-silhouette.bmp', 'china-silhouette.jpg', 'cyprus-silhouette.jpg', 'greenland-silhouette.jpg', 'louisiana-silhouette.jpg', 'mexico-silhouette.jpg', 'new-south-wales-silhouette.jpg', 'queensland-silhouette.jpg', 'united-states-silhouette.jpg']\n"
     ]
    }
   ],
   "source": [
    "image_files = os.listdir(geo_path)\n",
    "print(image_files)"
   ]
  },
  {
   "cell_type": "code",
   "execution_count": 16,
   "id": "76618e34",
   "metadata": {},
   "outputs": [],
   "source": [
    "for image_file in image_files:\n",
    "    image = _image_processing.load_image(os.path.join(geo_path, image_file))\n",
    "    dilated = _image_processing.dilate_image(image, 50)\n",
    "    _image_processing.save_image(dilated, os.path.join(out_path, image_file), date_stamp=False)\n",
    "    "
   ]
  },
  {
   "cell_type": "code",
   "execution_count": 15,
   "id": "d219659b",
   "metadata": {},
   "outputs": [],
   "source": [
    "for image_file in image_files:\n",
    "    image = _image_processing.load_image(os.path.join(geo_path, image_file))\n",
    "    opened = _image_processing.open_image(image, 50)\n",
    "    _image_processing.save_image(opened, os.path.join(open_path, image_file), date_stamp=False)\n",
    "    "
   ]
  }
 ],
 "metadata": {
  "kernelspec": {
   "display_name": "Python 3",
   "language": "python",
   "name": "python3"
  },
  "language_info": {
   "codemirror_mode": {
    "name": "ipython",
    "version": 3
   },
   "file_extension": ".py",
   "mimetype": "text/x-python",
   "name": "python",
   "nbconvert_exporter": "python",
   "pygments_lexer": "ipython3",
   "version": "3.8.3"
  }
 },
 "nbformat": 4,
 "nbformat_minor": 5
}
