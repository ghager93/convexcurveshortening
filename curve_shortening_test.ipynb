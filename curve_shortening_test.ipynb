{
 "cells": [
  {
   "cell_type": "code",
   "execution_count": 1,
   "id": "5348ad40",
   "metadata": {},
   "outputs": [],
   "source": [
    "import numpy as np\n",
    "\n",
    "import _image_processing"
   ]
  },
  {
   "cell_type": "code",
   "execution_count": 4,
   "id": "e3012928",
   "metadata": {},
   "outputs": [],
   "source": [
    "im = _image_processing.load_image(r\"C:/Users/ghage/PycharmProjects/morphoscale/lib/silhouettes/brazil-silhouette.bmp\")"
   ]
  },
  {
   "cell_type": "code",
   "execution_count": 5,
   "id": "5e72b751",
   "metadata": {},
   "outputs": [
    {
     "data": {
      "text/plain": [
       "PIL.Image.Image"
      ]
     },
     "execution_count": 5,
     "metadata": {},
     "output_type": "execute_result"
    }
   ],
   "source": [
    "type(im)"
   ]
  }
 ],
 "metadata": {
  "kernelspec": {
   "display_name": "Python 3",
   "language": "python",
   "name": "python3"
  },
  "language_info": {
   "codemirror_mode": {
    "name": "ipython",
    "version": 3
   },
   "file_extension": ".py",
   "mimetype": "text/x-python",
   "name": "python",
   "nbconvert_exporter": "python",
   "pygments_lexer": "ipython3",
   "version": "3.8.3"
  }
 },
 "nbformat": 4,
 "nbformat_minor": 5
}
