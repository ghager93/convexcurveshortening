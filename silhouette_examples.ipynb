{
 "cells": [
  {
   "cell_type": "code",
   "execution_count": 1,
   "id": "08536dd8",
   "metadata": {},
   "outputs": [],
   "source": [
    "import os\n",
    "import numpy as np\n",
    "import matplotlib.pyplot as plt\n",
    "\n",
    "from skimage import draw, morphology\n",
    "from PIL import Image\n",
    "\n",
    "import silhouette_subsets\n",
    "import curveshortening\n",
    "import _image_curve\n",
    "import _image_processing\n",
    "import _vector_maths\n",
    "import _utils"
   ]
  },
  {
   "cell_type": "code",
   "execution_count": 2,
   "id": "05148156",
   "metadata": {},
   "outputs": [
    {
     "data": {
      "text/plain": [
       "<module 'silhouette_subsets' from 'C:\\\\Users\\\\ghage\\\\PycharmProjects\\\\enclosedcurveshorteningflow\\\\silhouette_subsets.py'>"
      ]
     },
     "execution_count": 2,
     "metadata": {},
     "output_type": "execute_result"
    }
   ],
   "source": [
    "import importlib\n",
    "importlib.reload(silhouette_subsets)"
   ]
  },
  {
   "cell_type": "code",
   "execution_count": 3,
   "id": "36811c97",
   "metadata": {},
   "outputs": [],
   "source": [
    "silhouette_path = 'lib/silhouettes/'\n",
    "geo_path = os.path.join(silhouette_path, 'geographic')\n",
    "other_path = os.path.join(silhouette_path, 'other')"
   ]
  },
  {
   "cell_type": "code",
   "execution_count": 4,
   "id": "db0b590b",
   "metadata": {},
   "outputs": [
    {
     "data": {
      "text/plain": [
       "'afghanistan-silhouette.bmp'"
      ]
     },
     "execution_count": 4,
     "metadata": {},
     "output_type": "execute_result"
    }
   ],
   "source": [
    "geo_images = os.listdir(geo_path)\n",
    "geo_images[0]"
   ]
  },
  {
   "cell_type": "code",
   "execution_count": 5,
   "id": "69d0feb0",
   "metadata": {},
   "outputs": [],
   "source": [
    "subset = silhouette_subsets.silhouette_subsets(os.path.join(geo_path, geo_images[0]))"
   ]
  },
  {
   "cell_type": "code",
   "execution_count": 7,
   "id": "4481fdcf",
   "metadata": {},
   "outputs": [
    {
     "ename": "ValueError",
     "evalue": "operands could not be broadcast together with shapes (2282,2998) (1150,1749) ",
     "output_type": "error",
     "traceback": [
      "\u001b[1;31m---------------------------------------------------------------------------\u001b[0m",
      "\u001b[1;31mValueError\u001b[0m                                Traceback (most recent call last)",
      "\u001b[1;32m<ipython-input-7-e785d769900a>\u001b[0m in \u001b[0;36m<module>\u001b[1;34m\u001b[0m\n\u001b[1;32m----> 1\u001b[1;33m \u001b[0mplt\u001b[0m\u001b[1;33m.\u001b[0m\u001b[0mimshow\u001b[0m\u001b[1;33m(\u001b[0m\u001b[0msum\u001b[0m\u001b[1;33m(\u001b[0m\u001b[0msubset\u001b[0m\u001b[1;33m)\u001b[0m\u001b[1;33m)\u001b[0m\u001b[1;33m\u001b[0m\u001b[1;33m\u001b[0m\u001b[0m\n\u001b[0m",
      "\u001b[1;31mValueError\u001b[0m: operands could not be broadcast together with shapes (2282,2998) (1150,1749) "
     ]
    }
   ],
   "source": [
    "plt.imshow(sum(subset))"
   ]
  }
 ],
 "metadata": {
  "kernelspec": {
   "display_name": "Python 3",
   "language": "python",
   "name": "python3"
  },
  "language_info": {
   "codemirror_mode": {
    "name": "ipython",
    "version": 3
   },
   "file_extension": ".py",
   "mimetype": "text/x-python",
   "name": "python",
   "nbconvert_exporter": "python",
   "pygments_lexer": "ipython3",
   "version": "3.8.3"
  }
 },
 "nbformat": 4,
 "nbformat_minor": 5
}
