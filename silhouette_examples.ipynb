{
 "cells": [
  {
   "cell_type": "code",
   "execution_count": 10,
   "id": "08536dd8",
   "metadata": {},
   "outputs": [],
   "source": [
    "import os\n",
    "import numpy as np\n",
    "import matplotlib.pyplot as plt\n",
    "\n",
    "from skimage import draw, morphology\n",
    "from PIL import Image\n",
    "\n",
    "import silhouette_subsets\n",
    "import curveshortening\n",
    "import _image_curve\n",
    "import _image_processing\n",
    "import _vector_maths\n",
    "import _utils"
   ]
  },
  {
   "cell_type": "code",
   "execution_count": 12,
   "id": "72d2baaa",
   "metadata": {},
   "outputs": [
    {
     "data": {
      "text/plain": [
       "<module 'silhouette_subsets' from 'C:\\\\Users\\\\ghage\\\\PycharmProjects\\\\enclosedcurveshorteningflow\\\\silhouette_subsets.py'>"
      ]
     },
     "execution_count": 12,
     "metadata": {},
     "output_type": "execute_result"
    }
   ],
   "source": [
    "import importlib\n",
    "importlib.reload(silhouette_subsets)"
   ]
  },
  {
   "cell_type": "code",
   "execution_count": 3,
   "id": "b1e3e20e",
   "metadata": {},
   "outputs": [],
   "source": [
    "silhouette_path = 'lib/silhouettes/'\n",
    "geo_path = os.path.join(silhouette_path, 'geographic')\n",
    "other_path = os.path.join(silhouette_path, 'other')"
   ]
  },
  {
   "cell_type": "code",
   "execution_count": 14,
   "id": "99ff6cb2",
   "metadata": {},
   "outputs": [
    {
     "data": {
      "text/plain": [
       "'afghanistan-silhouette.bmp'"
      ]
     },
     "execution_count": 14,
     "metadata": {},
     "output_type": "execute_result"
    }
   ],
   "source": [
    "geo_images = os.listdir(geo_path)\n",
    "geo_images[0]"
   ]
  },
  {
   "cell_type": "code",
   "execution_count": 13,
   "id": "ec7d0384",
   "metadata": {},
   "outputs": [
    {
     "ename": "IndexError",
     "evalue": "index 2998 is out of bounds for axis 1 with size 2998",
     "output_type": "error",
     "traceback": [
      "\u001b[1;31m---------------------------------------------------------------------------\u001b[0m",
      "\u001b[1;31mIndexError\u001b[0m                                Traceback (most recent call last)",
      "\u001b[1;32m<ipython-input-13-05d99bea598d>\u001b[0m in \u001b[0;36m<module>\u001b[1;34m\u001b[0m\n\u001b[1;32m----> 1\u001b[1;33m \u001b[0msubset\u001b[0m \u001b[1;33m=\u001b[0m \u001b[0msilhouette_subsets\u001b[0m\u001b[1;33m.\u001b[0m\u001b[0msilhouette_subsets\u001b[0m\u001b[1;33m(\u001b[0m\u001b[0mos\u001b[0m\u001b[1;33m.\u001b[0m\u001b[0mpath\u001b[0m\u001b[1;33m.\u001b[0m\u001b[0mjoin\u001b[0m\u001b[1;33m(\u001b[0m\u001b[0mgeo_path\u001b[0m\u001b[1;33m,\u001b[0m \u001b[0mgeo_images\u001b[0m\u001b[1;33m[\u001b[0m\u001b[1;36m0\u001b[0m\u001b[1;33m]\u001b[0m\u001b[1;33m)\u001b[0m\u001b[1;33m)\u001b[0m\u001b[1;33m\u001b[0m\u001b[1;33m\u001b[0m\u001b[0m\n\u001b[0m",
      "\u001b[1;32m~\\PycharmProjects\\enclosedcurveshorteningflow\\silhouette_subsets.py\u001b[0m in \u001b[0;36msilhouette_subsets\u001b[1;34m(path, n_silhouettes)\u001b[0m\n\u001b[0;32m     15\u001b[0m     \u001b[0mcurves\u001b[0m \u001b[1;33m=\u001b[0m \u001b[0mcurveshortening\u001b[0m\u001b[1;33m.\u001b[0m\u001b[0menclosed_curve_shortening_flow\u001b[0m\u001b[1;33m(\u001b[0m\u001b[0mcurve\u001b[0m\u001b[1;33m,\u001b[0m \u001b[0mn_silhouettes\u001b[0m\u001b[1;33m)\u001b[0m\u001b[1;33m\u001b[0m\u001b[1;33m\u001b[0m\u001b[0m\n\u001b[0;32m     16\u001b[0m \u001b[1;33m\u001b[0m\u001b[0m\n\u001b[1;32m---> 17\u001b[1;33m     \u001b[1;32mreturn\u001b[0m \u001b[1;33m[\u001b[0m\u001b[0m_image_curve\u001b[0m\u001b[1;33m.\u001b[0m\u001b[0mcurve_to_image_matrix_filled\u001b[0m\u001b[1;33m(\u001b[0m\u001b[0mcurve\u001b[0m\u001b[1;33m,\u001b[0m \u001b[0mim\u001b[0m\u001b[1;33m.\u001b[0m\u001b[0mshape\u001b[0m\u001b[1;33m)\u001b[0m \u001b[1;32mfor\u001b[0m \u001b[0mcurve\u001b[0m \u001b[1;32min\u001b[0m \u001b[0mcurves\u001b[0m\u001b[1;33m]\u001b[0m\u001b[1;33m\u001b[0m\u001b[1;33m\u001b[0m\u001b[0m\n\u001b[0m\u001b[0;32m     18\u001b[0m \u001b[1;33m\u001b[0m\u001b[0m\n\u001b[0;32m     19\u001b[0m \u001b[1;33m\u001b[0m\u001b[0m\n",
      "\u001b[1;32m~\\PycharmProjects\\enclosedcurveshorteningflow\\silhouette_subsets.py\u001b[0m in \u001b[0;36m<listcomp>\u001b[1;34m(.0)\u001b[0m\n\u001b[0;32m     15\u001b[0m     \u001b[0mcurves\u001b[0m \u001b[1;33m=\u001b[0m \u001b[0mcurveshortening\u001b[0m\u001b[1;33m.\u001b[0m\u001b[0menclosed_curve_shortening_flow\u001b[0m\u001b[1;33m(\u001b[0m\u001b[0mcurve\u001b[0m\u001b[1;33m,\u001b[0m \u001b[0mn_silhouettes\u001b[0m\u001b[1;33m)\u001b[0m\u001b[1;33m\u001b[0m\u001b[1;33m\u001b[0m\u001b[0m\n\u001b[0;32m     16\u001b[0m \u001b[1;33m\u001b[0m\u001b[0m\n\u001b[1;32m---> 17\u001b[1;33m     \u001b[1;32mreturn\u001b[0m \u001b[1;33m[\u001b[0m\u001b[0m_image_curve\u001b[0m\u001b[1;33m.\u001b[0m\u001b[0mcurve_to_image_matrix_filled\u001b[0m\u001b[1;33m(\u001b[0m\u001b[0mcurve\u001b[0m\u001b[1;33m,\u001b[0m \u001b[0mim\u001b[0m\u001b[1;33m.\u001b[0m\u001b[0mshape\u001b[0m\u001b[1;33m)\u001b[0m \u001b[1;32mfor\u001b[0m \u001b[0mcurve\u001b[0m \u001b[1;32min\u001b[0m \u001b[0mcurves\u001b[0m\u001b[1;33m]\u001b[0m\u001b[1;33m\u001b[0m\u001b[1;33m\u001b[0m\u001b[0m\n\u001b[0m\u001b[0;32m     18\u001b[0m \u001b[1;33m\u001b[0m\u001b[0m\n\u001b[0;32m     19\u001b[0m \u001b[1;33m\u001b[0m\u001b[0m\n",
      "\u001b[1;32m~\\PycharmProjects\\enclosedcurveshorteningflow\\_image_curve.py\u001b[0m in \u001b[0;36mcurve_to_image_matrix_filled\u001b[1;34m(curve, shape)\u001b[0m\n\u001b[0;32m    153\u001b[0m     \u001b[1;31m# The matrix curve is then filled using the flood fill technique.\u001b[0m\u001b[1;33m\u001b[0m\u001b[1;33m\u001b[0m\u001b[1;33m\u001b[0m\u001b[0m\n\u001b[0;32m    154\u001b[0m \u001b[1;33m\u001b[0m\u001b[0m\n\u001b[1;32m--> 155\u001b[1;33m     \u001b[0mimage_matrix\u001b[0m \u001b[1;33m=\u001b[0m \u001b[0mcurve_to_image_matrix\u001b[0m\u001b[1;33m(\u001b[0m\u001b[0mcurve\u001b[0m\u001b[1;33m,\u001b[0m \u001b[0mshape\u001b[0m\u001b[1;33m)\u001b[0m\u001b[1;33m\u001b[0m\u001b[1;33m\u001b[0m\u001b[0m\n\u001b[0m\u001b[0;32m    156\u001b[0m     \u001b[0mdilated_image_matrix\u001b[0m \u001b[1;33m=\u001b[0m \u001b[0mmorphology\u001b[0m\u001b[1;33m.\u001b[0m\u001b[0mdilation\u001b[0m\u001b[1;33m(\u001b[0m\u001b[0mimage_matrix\u001b[0m\u001b[1;33m)\u001b[0m\u001b[1;33m\u001b[0m\u001b[1;33m\u001b[0m\u001b[0m\n\u001b[0;32m    157\u001b[0m \u001b[1;33m\u001b[0m\u001b[0m\n",
      "\u001b[1;32m~\\PycharmProjects\\enclosedcurveshorteningflow\\_image_curve.py\u001b[0m in \u001b[0;36mcurve_to_image_matrix\u001b[1;34m(curve, shape)\u001b[0m\n\u001b[0;32m    143\u001b[0m \u001b[1;33m\u001b[0m\u001b[0m\n\u001b[0;32m    144\u001b[0m     \u001b[0mimage_matrix\u001b[0m \u001b[1;33m=\u001b[0m \u001b[0mnp\u001b[0m\u001b[1;33m.\u001b[0m\u001b[0mzeros\u001b[0m\u001b[1;33m(\u001b[0m\u001b[0mshape\u001b[0m\u001b[1;33m)\u001b[0m\u001b[1;33m\u001b[0m\u001b[1;33m\u001b[0m\u001b[0m\n\u001b[1;32m--> 145\u001b[1;33m     \u001b[0mimage_matrix\u001b[0m\u001b[1;33m[\u001b[0m\u001b[0mtuple\u001b[0m\u001b[1;33m(\u001b[0m\u001b[0mnp\u001b[0m\u001b[1;33m.\u001b[0m\u001b[0mfloor\u001b[0m\u001b[1;33m(\u001b[0m\u001b[0mp\u001b[0m\u001b[1;33m)\u001b[0m\u001b[1;33m.\u001b[0m\u001b[0mastype\u001b[0m\u001b[1;33m(\u001b[0m\u001b[0mint\u001b[0m\u001b[1;33m)\u001b[0m \u001b[1;32mfor\u001b[0m \u001b[0mp\u001b[0m \u001b[1;32min\u001b[0m \u001b[0mzip\u001b[0m\u001b[1;33m(\u001b[0m\u001b[1;33m*\u001b[0m\u001b[0mcurve\u001b[0m\u001b[1;33m)\u001b[0m\u001b[1;33m)\u001b[0m\u001b[1;33m]\u001b[0m \u001b[1;33m=\u001b[0m \u001b[1;36m1\u001b[0m\u001b[1;33m\u001b[0m\u001b[1;33m\u001b[0m\u001b[0m\n\u001b[0m\u001b[0;32m    146\u001b[0m \u001b[1;33m\u001b[0m\u001b[0m\n\u001b[0;32m    147\u001b[0m     \u001b[1;32mreturn\u001b[0m \u001b[0mimage_matrix\u001b[0m\u001b[1;33m\u001b[0m\u001b[1;33m\u001b[0m\u001b[0m\n",
      "\u001b[1;31mIndexError\u001b[0m: index 2998 is out of bounds for axis 1 with size 2998"
     ]
    }
   ],
   "source": [
    "subset = silhouette_subsets.silhouette_subsets(os.path.join(geo_path, geo_images[0]))"
   ]
  },
  {
   "cell_type": "code",
   "execution_count": 33,
   "id": "e3e958db",
   "metadata": {},
   "outputs": [
    {
     "data": {
      "text/plain": [
       "<matplotlib.image.AxesImage at 0x15a1519c8b0>"
      ]
     },
     "execution_count": 33,
     "metadata": {},
     "output_type": "execute_result"
    },
    {
     "data": {
      "image/png": "[encoded data removed]",
      "text/plain": [
       "<Figure size 432x288 with 1 Axes>"
      ]
     },
     "metadata": {
      "needs_background": "light"
     },
     "output_type": "display_data"
    }
   ],
   "source": [
    "sidelen = 10\n",
    "inputx = np.hstack((np.arange(sidelen-1), (sidelen-1) * np.ones(sidelen-1),\n",
    "                    np.arange(1, sidelen)[::-1], np.zeros(sidelen-1))).astype(int) + 2\n",
    "inputy = np.hstack((np.zeros(sidelen-1), np.arange(sidelen-1), (sidelen-1) * np.ones(sidelen-1),\n",
    "                    np.arange(1, sidelen)[::-1])).astype(int) + 2\n",
    "\n",
    "input = np.vstack((inputx, inputy))\n",
    "\n",
    "plt.imshow(_image_curve.curve_to_image_matrix_filled(input.transpose(), shape=(14, 14)))"
   ]
  },
  {
   "cell_type": "code",
   "execution_count": 28,
   "id": "cf497058",
   "metadata": {},
   "outputs": [
    {
     "data": {
      "text/plain": [
       "<matplotlib.image.AxesImage at 0x15a157b93d0>"
      ]
     },
     "execution_count": 28,
     "metadata": {},
     "output_type": "execute_result"
    },
    {
     "data": {
      "image/png": "[encoded data removed]",
      "text/plain": [
       "<Figure size 432x288 with 1 Axes>"
      ]
     },
     "metadata": {
      "needs_background": "light"
     },
     "output_type": "display_data"
    }
   ],
   "source": [
    "output = np.zeros((13, 13))\n",
    "output[1:-1, 1:-1] = 1\n",
    "output[1, 1] = 0\n",
    "output[-1, 1] = 0\n",
    "output[1, -2] = 0\n",
    "output[-2, -2] = 0\n",
    "plt.imshow(output)"
   ]
  }
 ],
 "metadata": {
  "kernelspec": {
   "display_name": "Python 3",
   "language": "python",
   "name": "python3"
  },
  "language_info": {
   "codemirror_mode": {
    "name": "ipython",
    "version": 3
   },
   "file_extension": ".py",
   "mimetype": "text/x-python",
   "name": "python",
   "nbconvert_exporter": "python",
   "pygments_lexer": "ipython3",
   "version": "3.8.3"
  }
 },
 "nbformat": 4,
 "nbformat_minor": 5
}
