{
 "cells": [
  {
   "cell_type": "code",
   "execution_count": 1,
   "id": "d2178895",
   "metadata": {},
   "outputs": [],
   "source": [
    "import numpy as np\n",
    "\n",
    "from PIL import Image"
   ]
  },
  {
   "cell_type": "code",
   "execution_count": 2,
   "id": "2748b08b",
   "metadata": {},
   "outputs": [],
   "source": [
    "im = Image.open('C:/Users/ghage/Pictures/bob_the_builder.jpg')"
   ]
  },
  {
   "cell_type": "code",
   "execution_count": 4,
   "id": "cd52e0c8",
   "metadata": {},
   "outputs": [],
   "source": [
    "imnp = np.array(im)"
   ]
  },
  {
   "cell_type": "code",
   "execution_count": 7,
   "id": "e892b21e",
   "metadata": {},
   "outputs": [
    {
     "data": {
      "text/plain": [
       "array([ 35,  91, 166], dtype=uint8)"
      ]
     },
     "execution_count": 7,
     "metadata": {},
     "output_type": "execute_result"
    }
   ],
   "source": [
    "imnp[0, 0]"
   ]
  },
  {
   "cell_type": "code",
   "execution_count": 8,
   "id": "cd679f51",
   "metadata": {},
   "outputs": [
    {
     "data": {
      "text/plain": [
       "256"
      ]
     },
     "execution_count": 8,
     "metadata": {},
     "output_type": "execute_result"
    }
   ],
   "source": [
    "2**8"
   ]
  }
 ],
 "metadata": {
  "kernelspec": {
   "display_name": "Python 3",
   "language": "python",
   "name": "python3"
  },
  "language_info": {
   "codemirror_mode": {
    "name": "ipython",
    "version": 3
   },
   "file_extension": ".py",
   "mimetype": "text/x-python",
   "name": "python",
   "nbconvert_exporter": "python",
   "pygments_lexer": "ipython3",
   "version": "3.8.3"
  }
 },
 "nbformat": 4,
 "nbformat_minor": 5
}
