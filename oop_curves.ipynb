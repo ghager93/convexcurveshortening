{
 "cells": [
  {
   "cell_type": "code",
   "execution_count": 2,
   "id": "332f07ab",
   "metadata": {},
   "outputs": [],
   "source": [
    "import os\n",
    "import numpy as np\n",
    "import matplotlib.pyplot as plt\n",
    "\n",
    "import concave_enclosed_csf_list\n",
    "import _image_processing\n",
    "import _image_curve"
   ]
  },
  {
   "cell_type": "code",
   "execution_count": 19,
   "id": "b05906dd",
   "metadata": {},
   "outputs": [
    {
     "data": {
      "text/plain": [
       "<module 'concave_enclosed_csf_list' from 'C:\\\\Users\\\\ghage\\\\PycharmProjects\\\\enclosedcurveshorteningflow\\\\concave_enclosed_csf_list.py'>"
      ]
     },
     "execution_count": 19,
     "metadata": {},
     "output_type": "execute_result"
    }
   ],
   "source": [
    "import importlib\n",
    "importlib.reload(concave_enclosed_csf_list)"
   ]
  },
  {
   "cell_type": "code",
   "execution_count": 7,
   "id": "d0e98595",
   "metadata": {},
   "outputs": [],
   "source": [
    "sil_path = r\"C:\\Users\\ghage\\PycharmProjects\\enclosedcurveshorteningflow\\lib\\silhouettes\\geographic\""
   ]
  },
  {
   "cell_type": "code",
   "execution_count": 8,
   "id": "96588970",
   "metadata": {},
   "outputs": [],
   "source": [
    "sil_files = os.listdir(sil_path)"
   ]
  },
  {
   "cell_type": "code",
   "execution_count": 9,
   "id": "9dca3531",
   "metadata": {},
   "outputs": [],
   "source": [
    "images = [_image_processing.load_image(os.path.join(sil_path, file)) for file in sil_files]"
   ]
  },
  {
   "cell_type": "code",
   "execution_count": 12,
   "id": "6d93e633",
   "metadata": {},
   "outputs": [],
   "source": [
    "open_images = [_image_processing.open_image(image, 5) for image in images]"
   ]
  },
  {
   "cell_type": "code",
   "execution_count": 13,
   "id": "b92e2dd7",
   "metadata": {},
   "outputs": [],
   "source": [
    "image_curves = [_image_curve.ImageCurve(image).curve() for image in open_images]"
   ]
  },
  {
   "cell_type": "code",
   "execution_count": 20,
   "id": "054e123e",
   "metadata": {},
   "outputs": [],
   "source": [
    "ecsf = concave_enclosed_csf_list.ConcaveEnclosedCSFList(image_curves[0])"
   ]
  },
  {
   "cell_type": "code",
   "execution_count": 21,
   "id": "4120ba50",
   "metadata": {},
   "outputs": [
    {
     "name": "stdout",
     "output_type": "stream",
     "text": [
      "Iteration: 0, Concavity:  1423.08, Area to original %:  100.00\n",
      "Iteration: 100, Concavity:  30.70, Area to original %:  91.33\n",
      "Iteration: 200, Concavity:  23.24, Area to original %:  83.65\n",
      "Iteration: 300, Concavity:  17.26, Area to original %:  76.31\n",
      "Iteration: 400, Concavity:  12.65, Area to original %:  69.46\n",
      "Iteration: 500, Concavity:  10.78, Area to original %:  62.97\n",
      "Iteration: 600, Concavity:  9.65, Area to original %:  56.66\n",
      "Iteration: 700, Concavity:  8.47, Area to original %:  50.46\n",
      "Iteration: 800, Concavity:  6.47, Area to original %:  44.13\n",
      "Iteration: 900, Concavity:  4.23, Area to original %:  36.55\n",
      "Iteration: 1000, Concavity:  3.73, Area to original %:  28.83\n",
      "Iteration: 1100, Concavity:  3.64, Area to original %:  21.66\n",
      "Iteration: 1200, Concavity:  3.57, Area to original %:  14.90\n",
      "Iteration: 1300, Concavity:  3.51, Area to original %:  8.77\n",
      "Iteration: 1400, Concavity:  3.48, Area to original %:  3.39\n",
      "Iteration: 1500, Concavity:  3.45, Area to original %:  1.46\n",
      "Iteration: 1600, Concavity:  3.43, Area to original %:  5.91\n",
      "Intersection in subset curve, try a smaller step size.\n"
     ]
    }
   ],
   "source": [
    "ecsf.run()"
   ]
  },
  {
   "cell_type": "code",
   "execution_count": 26,
   "id": "1763009d",
   "metadata": {},
   "outputs": [
    {
     "data": {
      "image/png": "[encoded data removed]",
      "text/plain": [
       "<Figure size 432x288 with 1 Axes>"
      ]
     },
     "metadata": {
      "needs_background": "light"
     },
     "output_type": "display_data"
    }
   ],
   "source": [
    "_ = [plt.plot(*curve.transpose()) for curve in ecsf.curves[:1]]"
   ]
  },
  {
   "cell_type": "code",
   "execution_count": 27,
   "id": "293db6dd",
   "metadata": {},
   "outputs": [
    {
     "data": {
      "text/plain": [
       "18"
      ]
     },
     "execution_count": 27,
     "metadata": {},
     "output_type": "execute_result"
    }
   ],
   "source": [
    "len(ecsf.curves)"
   ]
  }
 ],
 "metadata": {
  "kernelspec": {
   "display_name": "Python 3",
   "language": "python",
   "name": "python3"
  },
  "language_info": {
   "codemirror_mode": {
    "name": "ipython",
    "version": 3
   },
   "file_extension": ".py",
   "mimetype": "text/x-python",
   "name": "python",
   "nbconvert_exporter": "python",
   "pygments_lexer": "ipython3",
   "version": "3.8.3"
  }
 },
 "nbformat": 4,
 "nbformat_minor": 5
}
