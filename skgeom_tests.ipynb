{
 "cells": [
  {
   "cell_type": "code",
   "execution_count": 2,
   "id": "ac9d0a05",
   "metadata": {},
   "outputs": [],
   "source": [
    "import numpy as np\n",
    "\n",
    "import skgeom"
   ]
  },
  {
   "cell_type": "code",
   "execution_count": 6,
   "id": "c3c30ba0",
   "metadata": {},
   "outputs": [],
   "source": [
    "a = [[0, 0], [2, 0], [1, 1], [0, 1]]\n",
    "p = skgeom.Polygon(a)"
   ]
  },
  {
   "cell_type": "code",
   "execution_count": 9,
   "id": "a2d8b840",
   "metadata": {},
   "outputs": [
    {
     "ename": "TypeError",
     "evalue": "max(): incompatible function arguments. The following argument types are supported:\n    1. (self: skgeom._skgeom.Bbox2, arg0: int) -> float\n\nInvoked with: Bbox_2(0, 0, 2, 1)",
     "output_type": "error",
     "traceback": [
      "\u001b[1;31m---------------------------------------------------------------------------\u001b[0m",
      "\u001b[1;31mTypeError\u001b[0m                                 Traceback (most recent call last)",
      "\u001b[1;32m<ipython-input-9-c6df5d1da839>\u001b[0m in \u001b[0;36m<module>\u001b[1;34m\u001b[0m\n\u001b[1;32m----> 1\u001b[1;33m \u001b[0mp\u001b[0m\u001b[1;33m.\u001b[0m\u001b[0mbbox\u001b[0m\u001b[1;33m(\u001b[0m\u001b[1;33m)\u001b[0m\u001b[1;33m.\u001b[0m\u001b[0mmax\u001b[0m\u001b[1;33m(\u001b[0m\u001b[1;33m)\u001b[0m\u001b[1;33m\u001b[0m\u001b[1;33m\u001b[0m\u001b[0m\n\u001b[0m",
      "\u001b[1;31mTypeError\u001b[0m: max(): incompatible function arguments. The following argument types are supported:\n    1. (self: skgeom._skgeom.Bbox2, arg0: int) -> float\n\nInvoked with: Bbox_2(0, 0, 2, 1)"
     ]
    }
   ],
   "source": [
    "p.bbox().max()"
   ]
  }
 ],
 "metadata": {
  "kernelspec": {
   "display_name": "Python 3",
   "language": "python",
   "name": "python3"
  },
  "language_info": {
   "codemirror_mode": {
    "name": "ipython",
    "version": 3
   },
   "file_extension": ".py",
   "mimetype": "text/x-python",
   "name": "python",
   "nbconvert_exporter": "python",
   "pygments_lexer": "ipython3",
   "version": "3.8.3"
  }
 },
 "nbformat": 4,
 "nbformat_minor": 5
}
